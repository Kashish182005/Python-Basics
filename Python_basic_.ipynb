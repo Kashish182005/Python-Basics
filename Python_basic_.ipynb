{
  "nbformat": 4,
  "nbformat_minor": 0,
  "metadata": {
    "colab": {
      "provenance": []
    },
    "kernelspec": {
      "name": "python3",
      "display_name": "Python 3"
    },
    "language_info": {
      "name": "python"
    }
  },
  "cells": [
    {
      "cell_type": "markdown",
      "source": [
        "\n",
        "# **Python Basics Theory**\n"
      ],
      "metadata": {
        "id": "TOND4TfQrVrO"
      }
    },
    {
      "cell_type": "markdown",
      "source": [
        "1. What is Python, and why is it popular ?\n",
        " - Python is a programming language, it is a language we use to talk to computers and tell them what to do. It is a high-level, open-source programming language known for its simplicity and readability. It was created by Guido van Rossum and first released in 1991. Over time, Python has become one of the most widely used languages in the fields of data analytics, data science, machine learning, and artificial intelligence.\n",
        " - Python is popular because of the following reasons:\n",
        "     \n",
        "\n",
        "1. Easy to Learn and Use\n",
        "2. Extensive Libraries for Data Analytics - Pandas , Numpy , etc\n",
        "3. Strong Community Support\n",
        "4. Integration and Flexibility\n",
        "5. Used by Industry Leaders\n",
        "\n",
        "\n",
        "---\n",
        "2. What is an interpreter in Python ?\n",
        " - An interpreter in Python is like a translator sitting between you and your computer. When we write Python code, we are writing in a language that we can understand but our computer doesn’t speak Python. That’s where the interpreter comes in. It reads our code one line at a time, translates it, and then makes the computer do what you asked—instantly.\n",
        "  - In other words, an interpreter is a program that reads and executes the code line by line. It takes the human-written Python code (called source code) and directly performs the instructions without needing to convert the whole program into machine language first.\n",
        "\n",
        "\n",
        "---\n",
        "3.  What are pre-defined keywords in Python?\n",
        " - Python has some special words that it already understands and uses for certain tasks. These words are called keywords or reserved words.Pre-defined keywords (also called reserved words) are special words in Python that have a fixed meaning and cannot be used as variable names, function names, or identifiers. These keywords are part of the Python language syntax.\n",
        " - There are 35 keywords in python 3.11 . Those are:\n",
        " 1. False\n",
        " 2. None\n",
        " 3. True\n",
        " 4. and\n",
        " 5. as\n",
        " 6. assert\n",
        " 7. async\n",
        " 8. await\n",
        " 9. break\n",
        " 10. class\n",
        " 11. continue\n",
        " 12. def\n",
        " 13. del\n",
        " 14. elif\n",
        " 15. else\n",
        " 16. except\n",
        " 17. finally\n",
        " 18. for\n",
        " 19. from\n",
        " 20. global\n",
        " 21. if\n",
        " 22. import\n",
        " 23. in\n",
        " 24. is\n",
        " 25. lambda\n",
        " 26. nonlocal\n",
        " 27. not\n",
        " 28. or\n",
        " 29. pass\n",
        " 30. raise\n",
        " 31. return\n",
        " 32. try\n",
        " 33. while\n",
        " 34. with\n",
        " 35. yield\n",
        "\n",
        "---\n",
        "4. Can keywords be used as variable names?\n",
        "  - No, keywords cannot be used as variable names in Python.\n",
        "  - Because keywords have special meanings in Python. If you try to use them as variable names, Python will get confused — it won’t know whether you’re trying to name something or write a command.\n",
        "\n",
        "---\n",
        "5. What is mutability in Python ?\n",
        " - Mutability in Python refers to an object’s ability to change its content or state after it is created. In simple terms, if you can modify the value, structure, or elements of an object without changing its identity, it is called mutable. If you cannot modify the object once it's created, it's called immutable.\n",
        "\n",
        " - Mutable Objects:\n",
        "These are the objects that can be changed after creation. You can add, remove, or change their elements or content without creating a new object.\n",
        "\n",
        "Common mutable types:\n",
        "\n",
        " 1. List\n",
        "\n",
        " 2. Dictionary  \n",
        "\n",
        " - Immutable Objects:\n",
        "These are the objects that cannot be changed after creation. Any modification results in the creation of a new object.\n",
        "\n",
        "Common immutable types:\n",
        "\n",
        " 1. Integer\n",
        "\n",
        " 2. Float\n",
        "\n",
        " 3. String\n",
        "\n",
        " ---\n",
        "\n",
        "6. Why are lists mutable, but tuples are immutable\n",
        " - In Python, lists and tuples are both used to store collections of items. They look very similar, but they behave differently when it comes to changing (mutating) the data inside them.\n",
        " - A list allows you to add, remove, or modify elements after the list is created. Python designed lists to be flexible and dynamic because they are meant to be used when you need to store data that might change during the program.\n",
        " - A tuple, on the other hand, cannot be changed after it’s created. Once you define the values in a tuple, you can’t add, remove, or modify any of them.\n",
        "\n",
        "---\n",
        "7. What is the difference between “==” and “is” operators in Python?\n",
        "  - In Python, both == and is are comparison operators, but they are used for different types of comparisons.\n",
        "\n",
        " - == (Equality Operator)\n",
        "The == operator is used to check if the values of two variables are equal, regardless of whether they are the same object in memory. It focuses only on the content.\n",
        " - is (Identity Operator)\n",
        "The is operator checks whether two variables refer to the exact same object in memory. It checks identity, not just equality.\n",
        "\n",
        "---\n",
        "8. What are logical operators in Python ?\n",
        " - Logical operators in Python are used to combine two or more conditions (also called expressions) and return either True or False based on the logic.\n",
        "They help us make decisions in code just like how we make decisions in real life using “and”, “or”, and “not”.\n",
        "\n",
        "The 3 Logical Operators in Python:\n",
        "1. \"and\" Operator\n",
        "\n",
        "It returns True only if both conditions are True.\n",
        "2. \"or\" Operator\n",
        "\n",
        "It returns True if at least one of the conditions is True.\n",
        "3. \"not\" Operator\n",
        "\n",
        "It reverses the result of a condition.\n",
        "\n",
        "---\n",
        "9. What is type casting in Python ?\n",
        " - Type casting in Python means changing the data type of a value or variable from one type to another. For example, you might want to convert:\n",
        "\n",
        "- a string like \"123\" into an integer 123\n",
        "\n",
        "- a float like 3.14 into an integer 3\n",
        "\n",
        "- an integer into a string to display it as text\n",
        " - This process is also called type conversion.\n",
        "\n",
        "---\n",
        "10. What is the difference between implicit and explicit type casting ?\n",
        " - Implicit Type Casting (Automatic Conversion)\n",
        "\n",
        "In implicit type casting, Python handles the conversion automatically. This happens behind the scenes, without the programmer needing to write any extra code. Python does this when it can safely convert one type to another without losing information. It's commonly used when combining data of different but compatible types, such as int and float.\n",
        "\n",
        " - Explicit Type Casting (Manual Conversion)\n",
        "\n",
        "In explicit type casting, the programmer manually converts the data from one type to another using built-in functions like:\n",
        "\n",
        "int() – to convert to integer\n",
        "\n",
        "float() – to convert to float\n",
        "\n",
        "str() – to convert to string\n",
        "\n",
        "bool() – to convert to boolean\n",
        "\n",
        "This is useful when you're working with user input, external data, or strings that need to be converted into numbers for calculations.\n",
        "\n",
        "---\n",
        "11. What is the purpose of conditional statements in Python?\n",
        " - Conditional statements in Python are used to make decisions in your code.\n",
        "They allow your program to choose different actions based on whether a condition is true or false. In simple terms, they help your code \"think\" and \"decide\" just like we do in real life.\n",
        " - In real life, we constantly make decisions:\n",
        "\n",
        " \"If it’s raining, I’ll take an umbrella. Else, I won’t.\"\n",
        "\n",
        " Similarly, in programming:\n",
        "\n",
        " If a number is positive, print “Positive”, else print “Negative”.\n",
        "\n",
        " - Conditional statements allow your Python program to respond to different situations, instead of just running from top to bottom without any logic.\n",
        "  - The purpose of conditional statements in Python is to give your code the ability to make decisions and act differently based on the data or situation. They are essential for building smart, responsive programs and are especially important in data analytics where logic-driven filtering, cleaning, and classification are key tasks.\n",
        "\n",
        "---\n",
        "12. How does the elif statement work ?\n",
        " - The elif statement in Python stands for “else if”.\n",
        "It is used to check multiple conditions one by one after the first if condition.\n",
        "It only runs if the previous if or elif conditions were false.\n",
        "\n",
        "Python first checks the if condition.\n",
        "\n",
        "If it’s True, the block under it runs, and the entire if-elif-else structure ends there.\n",
        "\n",
        "If it’s False, Python moves on to check the first elif.\n",
        "\n",
        "Then it checks each elif condition in order.\n",
        "\n",
        "The first elif that is True will execute, and the rest will be skipped.\n",
        "\n",
        "If none of the elif conditions are True, it moves to the else block (if it exists).\n",
        "\n",
        "Only one block (either if, one of the elif, or else) will be executed—even if multiple conditions are true, only the first true condition is used.\n",
        "\n",
        " - The elif statement in Python allows your program to make multiple decisions in a clean and organized way. It checks each condition in order and executes only one block the first one that is true. This helps in writing efficient, readable, and logical code, which is extremely important when working with complex datasets and decision rules in data analytics.\n",
        " ---\n",
        " 13. What is the difference between for and while loops ?\n",
        "  - Both for and while loops are used in Python to repeat a block of code multiple times. However, they work in different ways and are used in different situations depending on what kind of repetition you need.\n",
        "    1. for Loop : Used When You Know How Many Times to Repeat\n",
        "A for loop is generally used when you want to iterate (go through) something a fixed number of times, like a list, string, range, or any collection.\n",
        "  2. while Loop : Used When You Don’t Know How Many Times\n",
        "A while loop keeps running as long as a condition is true. You use it when you don’t know ahead of time how many times you’ll need to repeat something.\n",
        "\n",
        "---\n",
        "14. Describe a scenario where a while loop is more suitable than a for loop.\n",
        " - Imagine I am  building a data entry form in a Python program where a user must enter their age.\n",
        "I want to make sure they don't enter anything wrong—like a negative number, a string, or a blank value.\n",
        "In this case, i don't know how many times the user might enter incorrect input. So, a while loop is perfect because it keeps asking until the input is valid.\n",
        "\n",
        "\n",
        "\n",
        "\n",
        "\n",
        "\n",
        "  \n",
        "\n",
        "\n",
        "\n",
        "\n",
        "\n",
        "\n",
        "\n",
        "\n",
        "\n"
      ],
      "metadata": {
        "id": "1nlqhXKkrssQ"
      }
    },
    {
      "cell_type": "code",
      "source": [
        "# answer 14 example\n",
        "age = input(\"Enter your age:\")\n",
        "while not age.isdigit() or int(age) <= 0:\n",
        "    print(\"Invalid age. Please enter a positive number.\")\n",
        "    age = input(\"Enter your age:\")\n",
        "print(f\"Age {age} accepted.\")"
      ],
      "metadata": {
        "colab": {
          "base_uri": "https://localhost:8080/"
        },
        "id": "Pt0nXUuFR-WO",
        "outputId": "1601dedf-fd4a-4ec5-8b9e-d0e06b0fdc0a"
      },
      "execution_count": null,
      "outputs": [
        {
          "output_type": "stream",
          "name": "stdout",
          "text": [
            "Enter your age:-5\n",
            "Invalid age. Please enter a positive number.\n",
            "Enter your age:19\n",
            "Age 19 accepted.\n"
          ]
        }
      ]
    },
    {
      "cell_type": "markdown",
      "source": [
        "#**Practical Questions**\n",
        "1. Write a Python program to print \"Hello, World!\"\n"
      ],
      "metadata": {
        "id": "vpJ4vxCUT6Jp"
      }
    },
    {
      "cell_type": "code",
      "source": [
        "print(\"Hello, World!\")"
      ],
      "metadata": {
        "colab": {
          "base_uri": "https://localhost:8080/"
        },
        "id": "9UxZyE8CU44e",
        "outputId": "9a32b02c-cabc-4456-9cfe-66d6e259ca76"
      },
      "execution_count": null,
      "outputs": [
        {
          "output_type": "stream",
          "name": "stdout",
          "text": [
            "Hello, World!\n"
          ]
        }
      ]
    },
    {
      "cell_type": "markdown",
      "source": [
        "2. Write a Python program that displays your name and age."
      ],
      "metadata": {
        "id": "crYLqCVOU_c6"
      }
    },
    {
      "cell_type": "code",
      "source": [
        "name = \"Kashish Grover\"\n",
        "age = \"19\"\n",
        "print (f\"My name is {name} and I am {age} years old.\")"
      ],
      "metadata": {
        "colab": {
          "base_uri": "https://localhost:8080/"
        },
        "id": "tc9EpwJ9VEqx",
        "outputId": "74486bcc-f0dc-48ca-8a4e-9788aaf466fa"
      },
      "execution_count": null,
      "outputs": [
        {
          "output_type": "stream",
          "name": "stdout",
          "text": [
            "My name is Kashish Grover and I am 19 years old.\n"
          ]
        }
      ]
    },
    {
      "cell_type": "markdown",
      "source": [
        "3. Write code to print all the pre-defined keywords in Python using the keyword library."
      ],
      "metadata": {
        "id": "ipXVkovdVp4P"
      }
    },
    {
      "cell_type": "code",
      "source": [
        "import keyword\n",
        "# Print all python keywords\n",
        "print (keyword.kwlist)"
      ],
      "metadata": {
        "colab": {
          "base_uri": "https://localhost:8080/"
        },
        "id": "kbiu-sKoVt8A",
        "outputId": "d913f41f-4ee1-4468-e475-7e148045e6e5"
      },
      "execution_count": null,
      "outputs": [
        {
          "output_type": "stream",
          "name": "stdout",
          "text": [
            "['False', 'None', 'True', 'and', 'as', 'assert', 'async', 'await', 'break', 'class', 'continue', 'def', 'del', 'elif', 'else', 'except', 'finally', 'for', 'from', 'global', 'if', 'import', 'in', 'is', 'lambda', 'nonlocal', 'not', 'or', 'pass', 'raise', 'return', 'try', 'while', 'with', 'yield']\n"
          ]
        }
      ]
    },
    {
      "cell_type": "markdown",
      "source": [
        "4. Write a program that checks if a given word is a Python keyword."
      ],
      "metadata": {
        "id": "RqtfuIqpW27V"
      }
    },
    {
      "cell_type": "code",
      "source": [
        "import keyword\n",
        "word = input(\"Enter a word to check if it is a Python keyword:\")\n",
        "all_keywords = keyword.kwlist\n",
        "if word in all_keywords:\n",
        "  print(f\"'{word}' is a Python keyword.\")\n",
        "else:\n",
        "  print(f\"'{word}' is not Python keyword\")"
      ],
      "metadata": {
        "colab": {
          "base_uri": "https://localhost:8080/"
        },
        "id": "mdXfygG0W8dN",
        "outputId": "9823bc5d-e2a7-49fa-86d6-b8ca3e19026c"
      },
      "execution_count": null,
      "outputs": [
        {
          "output_type": "stream",
          "name": "stdout",
          "text": [
            "Enter a word to check if it is a Python keyword:str\n",
            "'str' is not Python keyword\n"
          ]
        }
      ]
    },
    {
      "cell_type": "code",
      "source": [
        "import keyword\n",
        "word = input(\"Enter a word to check if it is a Python keyword:\")\n",
        "all_keywords = keyword.kwlist\n",
        "if word in all_keywords:\n",
        "  print(f\"'{word}' is a Python keyword.\")\n",
        "else:\n",
        "  print(f\"'{word}' is not Python keyword\")"
      ],
      "metadata": {
        "colab": {
          "base_uri": "https://localhost:8080/"
        },
        "id": "WwlGyj9laLJA",
        "outputId": "1eb1221a-28ad-4e0c-c966-148648b3d9f9"
      },
      "execution_count": null,
      "outputs": [
        {
          "output_type": "stream",
          "name": "stdout",
          "text": [
            "Enter a word to check if it is a Python keyword:import\n",
            "'import' is a Python keyword.\n"
          ]
        }
      ]
    },
    {
      "cell_type": "markdown",
      "source": [
        "5. Create a list and tuple in Python, and demonstrate how attempting to change an element works differently\n",
        "for each."
      ],
      "metadata": {
        "id": "ZNzv_cvIap4c"
      }
    },
    {
      "cell_type": "code",
      "source": [
        "#creating a list\n",
        "my_list = [10,20,30,40,50]\n",
        "print(\"Original List:\",my_list)\n",
        "\n",
        "#changing an element in list\n",
        "my_list[3] = 300\n",
        "print(\"Modified List:\", my_list)"
      ],
      "metadata": {
        "colab": {
          "base_uri": "https://localhost:8080/"
        },
        "id": "2a5dIWEVay3X",
        "outputId": "b1be07e4-8805-4a03-8663-2d23ba9c93a9"
      },
      "execution_count": null,
      "outputs": [
        {
          "output_type": "stream",
          "name": "stdout",
          "text": [
            "Original List: [10, 20, 30, 40, 50]\n",
            "Modified List: [10, 20, 30, 300, 50]\n"
          ]
        }
      ]
    },
    {
      "cell_type": "code",
      "source": [
        "#creating a tuple\n",
        "my_tuple = (10,20,30,40,50)\n",
        "print(\"Original Tuple:\", my_tuple)\n",
        "\n",
        "#changing an element in typle\n",
        "my_tuple[30]= 300\n",
        "print(\"Modified Tuple:\", my_tuple)"
      ],
      "metadata": {
        "colab": {
          "base_uri": "https://localhost:8080/",
          "height": 211
        },
        "id": "O2pnYgHpdJlC",
        "outputId": "c7601c4f-dc22-4e93-b4e7-38551681e0eb"
      },
      "execution_count": null,
      "outputs": [
        {
          "output_type": "stream",
          "name": "stdout",
          "text": [
            "Original Tuple: (10, 20, 30, 40, 50)\n"
          ]
        },
        {
          "output_type": "error",
          "ename": "TypeError",
          "evalue": "'tuple' object does not support item assignment",
          "traceback": [
            "\u001b[0;31m---------------------------------------------------------------------------\u001b[0m",
            "\u001b[0;31mTypeError\u001b[0m                                 Traceback (most recent call last)",
            "\u001b[0;32m/tmp/ipython-input-35-402053503.py\u001b[0m in \u001b[0;36m<cell line: 0>\u001b[0;34m()\u001b[0m\n\u001b[1;32m      4\u001b[0m \u001b[0;34m\u001b[0m\u001b[0m\n\u001b[1;32m      5\u001b[0m \u001b[0;31m#changing an element in typle\u001b[0m\u001b[0;34m\u001b[0m\u001b[0;34m\u001b[0m\u001b[0m\n\u001b[0;32m----> 6\u001b[0;31m \u001b[0mmy_tuple\u001b[0m\u001b[0;34m[\u001b[0m\u001b[0;36m30\u001b[0m\u001b[0;34m]\u001b[0m\u001b[0;34m=\u001b[0m \u001b[0;36m300\u001b[0m\u001b[0;34m\u001b[0m\u001b[0;34m\u001b[0m\u001b[0m\n\u001b[0m\u001b[1;32m      7\u001b[0m \u001b[0mprint\u001b[0m\u001b[0;34m(\u001b[0m\u001b[0;34m\"Modified Tuple:\"\u001b[0m\u001b[0;34m,\u001b[0m \u001b[0mmy_tuple\u001b[0m\u001b[0;34m)\u001b[0m\u001b[0;34m\u001b[0m\u001b[0;34m\u001b[0m\u001b[0m\n",
            "\u001b[0;31mTypeError\u001b[0m: 'tuple' object does not support item assignment"
          ]
        }
      ]
    },
    {
      "cell_type": "markdown",
      "source": [
        "6. Write a function to demonstrate the behavior of mutable and immutable arguments."
      ],
      "metadata": {
        "id": "XUBuMlXse8Xv"
      }
    },
    {
      "cell_type": "code",
      "source": [
        "# Function to demonstrate mutable and immutable behavior\n",
        "def modify_values(num, my_list):\n",
        "    print(\"Inside function before modification:\")\n",
        "    print(\"Number:\", num)\n",
        "    print(\"List:\", my_list)\n",
        "    # Try modifying both\n",
        "    num += 10\n",
        "    my_list.append(100)\n",
        "    print(\"Inside function after modification:\")\n",
        "    print(\"Number:\", num)\n",
        "    print(\"List:\", my_list)\n",
        "\n",
        "# Immutable argument\n",
        "number = 50\n",
        "# Mutable argument\n",
        "numbers_list = [10, 20, 30]\n",
        "# Call the function\n",
        "modify_values(number, numbers_list)\n",
        "print(\"Outside function after calling:\")\n",
        "print(\"Number:\", number)\n",
        "print(\"List:\", numbers_list)"
      ],
      "metadata": {
        "id": "SgTM2lUXfFBO",
        "colab": {
          "base_uri": "https://localhost:8080/"
        },
        "outputId": "e6fed3b0-e03c-43b7-845c-cec5522da075"
      },
      "execution_count": 36,
      "outputs": [
        {
          "output_type": "stream",
          "name": "stdout",
          "text": [
            "Inside function before modification:\n",
            "Number: 50\n",
            "List: [10, 20, 30]\n",
            "Inside function after modification:\n",
            "Number: 60\n",
            "List: [10, 20, 30, 100]\n",
            "Outside function after calling:\n",
            "Number: 50\n",
            "List: [10, 20, 30, 100]\n"
          ]
        }
      ]
    },
    {
      "cell_type": "markdown",
      "source": [
        "7. Write a program that performs basic arithmetic operations on two user-input numbers."
      ],
      "metadata": {
        "id": "V-oTU_vXhBhP"
      }
    },
    {
      "cell_type": "code",
      "source": [
        "num1 = float(input(\"Enter first number:\"))\n",
        "num2 = float(input(\"Enter second number:\"))\n",
        "#airthmetic operations\n",
        "addition = num1 + num2\n",
        "subtraction = num1 - num2\n",
        "multiplication = num1 * num2\n",
        "#division\n",
        "if num2 != 0:\n",
        "  division = num1 / num2\n",
        "else:\n",
        "  division= \"undefined\"\n",
        "\n",
        "   #results\n",
        "print(f\"Addition: {addition}\")\n",
        "print(f\"Subtraction: {subtraction}\")\n",
        "print(f\"Multiplication: {multiplication}\")\n",
        "print(f\"Division: {division}\")"
      ],
      "metadata": {
        "colab": {
          "base_uri": "https://localhost:8080/"
        },
        "id": "fdO6mH1WiG-h",
        "outputId": "f26acd76-58eb-4f6b-a6cd-62415d13ff67"
      },
      "execution_count": null,
      "outputs": [
        {
          "output_type": "stream",
          "name": "stdout",
          "text": [
            "Enter first number:5600\n",
            "Enter second number:100\n",
            "Addition: 5700.0\n",
            "Subtraction: 5500.0\n",
            "Multiplication: 560000.0\n",
            "Division: 56.0\n"
          ]
        }
      ]
    },
    {
      "cell_type": "markdown",
      "source": [
        "8.  Write a program to demonstrate the use of logical operators."
      ],
      "metadata": {
        "id": "mbGSo034mQT3"
      }
    },
    {
      "cell_type": "code",
      "source": [
        "marks = int(input(\"Enter your marks out of 100:\"))\n",
        "if marks>= 90:\n",
        "  grade = 'A'\n",
        "elif marks >= 75 and marks < 90:\n",
        "  grade = 'B'\n",
        "elif marks >= 50 or marks == 49:\n",
        "  grade = 'C'\n",
        "else:\n",
        "  grade = 'F'\n",
        "print (f\"Your grade is : {grade}\")\n",
        "# \"and\" , \"or\" are logical operators\n",
        "#  logical operators return a Boolean value (True/False).\n",
        "print(\"Condition (marks > 90):\", marks > 90)\n",
        "print(\"Condition (marks >= 75 and marks < 90):\", marks >= 75 and marks < 90)\n",
        "print(\"Condition (marks >= 50 or marks == 49):\", marks >= 50 or marks == 49)\n"
      ],
      "metadata": {
        "colab": {
          "base_uri": "https://localhost:8080/"
        },
        "id": "NBkiePUoNupO",
        "outputId": "f1d35d43-9e02-4161-a9d5-deaa001f2ab4"
      },
      "execution_count": null,
      "outputs": [
        {
          "output_type": "stream",
          "name": "stdout",
          "text": [
            "Enter your marks out of 100:90\n",
            "Your grade is : A\n",
            "Condition (marks > 90): False\n",
            "Condition (marks >= 75 and marks < 90): False\n",
            "Condition (marks >= 50 or marks == 49): True\n"
          ]
        }
      ]
    },
    {
      "cell_type": "markdown",
      "source": [
        "9.  Write a Python program to convert user input from string to integer, float, and boolean types."
      ],
      "metadata": {
        "id": "BUzZLiXhSv6S"
      }
    },
    {
      "cell_type": "code",
      "source": [
        "user_input = input(\"Enter a value: \")\n",
        "int_value = int(user_input)\n",
        "float_value = float(user_input)\n",
        "boolean_value = bool(user_input)\n",
        "print(f\"The string value is: {user_input}\")\n",
        "print(f\"The integer value is: {int_value}\")\n",
        "print(f\"The float value is: {float_value}\")\n",
        "print(f\"The boolean value is: {boolean_value}\")\n"
      ],
      "metadata": {
        "id": "ml_6tLteTPRf",
        "colab": {
          "base_uri": "https://localhost:8080/"
        },
        "outputId": "d1c9e6ab-182e-44de-aa15-9fb70a76a1f4"
      },
      "execution_count": null,
      "outputs": [
        {
          "output_type": "stream",
          "name": "stdout",
          "text": [
            "Enter a value: 88\n",
            "The string value is: 88\n",
            "The integer value is: 88\n",
            "The float value is: 88.0\n",
            "The boolean value is: True\n"
          ]
        }
      ]
    },
    {
      "cell_type": "markdown",
      "source": [
        "10. Write code to demonstrate type casting with list elements."
      ],
      "metadata": {
        "id": "AWizKj-ebYT7"
      }
    },
    {
      "cell_type": "code",
      "source": [
        "string_list = ['10', '20', '30', '0', '']\n",
        "\n",
        "print(\"Original list (strings):\", string_list)\n",
        "\n",
        "# Type casting: Convert string elements to integers\n",
        "int_list = [int(x) for x in string_list if x.isdigit()]\n",
        "print(\"List after casting to integers:\", int_list)\n",
        "\n",
        "# Convert string elements to floats (if possible)\n",
        "float_list = [float(x) for x in string_list if x.replace('.', '', 1).isdigit()]\n",
        "print(\"List after casting to floats:\", float_list)\n",
        "\n",
        "# Convert string elements to booleans\n",
        "bool_list = [bool(x) for x in string_list]\n",
        "print(\"List after casting to booleans:\", bool_list)\n"
      ],
      "metadata": {
        "colab": {
          "base_uri": "https://localhost:8080/"
        },
        "id": "sP7a53Lfbh9v",
        "outputId": "6308c781-c411-41e7-8480-683273f89fac"
      },
      "execution_count": null,
      "outputs": [
        {
          "output_type": "stream",
          "name": "stdout",
          "text": [
            "Original list (strings): ['10', '20', '30', '0', '']\n",
            "List after casting to integers: [10, 20, 30, 0]\n",
            "List after casting to floats: [10.0, 20.0, 30.0, 0.0]\n",
            "List after casting to booleans: [True, True, True, True, False]\n"
          ]
        }
      ]
    },
    {
      "cell_type": "markdown",
      "source": [
        "11. Write a program that checks if a number is positive, negative, or zero.\n"
      ],
      "metadata": {
        "id": "wtu_8ISgcOsz"
      }
    },
    {
      "cell_type": "code",
      "source": [
        "num = float(input(\"Enter a number:\"))\n",
        "if num > 0:\n",
        "    print(f\"The number is positive\")\n",
        "elif num < 0:\n",
        "    print(f\"The number is negative\")\n",
        "else:\n",
        "    print(f\"The number is 0\")"
      ],
      "metadata": {
        "id": "7pTvpfYjcTcu",
        "colab": {
          "base_uri": "https://localhost:8080/"
        },
        "outputId": "4f14db23-efb0-4c2e-efd2-e62d71c30567"
      },
      "execution_count": null,
      "outputs": [
        {
          "output_type": "stream",
          "name": "stdout",
          "text": [
            "Enter a number:-52\n",
            "The number is negative\n"
          ]
        }
      ]
    },
    {
      "cell_type": "markdown",
      "source": [
        "12. Write a for loop to print numbers from 1 to 10."
      ],
      "metadata": {
        "id": "7LHD0kedmd_3"
      }
    },
    {
      "cell_type": "code",
      "source": [
        "for i in range(1,11):\n",
        "  print(i)"
      ],
      "metadata": {
        "colab": {
          "base_uri": "https://localhost:8080/"
        },
        "id": "PN410Rz7mkg8",
        "outputId": "2fade181-71b9-4de5-c29e-a845c2503170"
      },
      "execution_count": null,
      "outputs": [
        {
          "output_type": "stream",
          "name": "stdout",
          "text": [
            "1\n",
            "2\n",
            "3\n",
            "4\n",
            "5\n",
            "6\n",
            "7\n",
            "8\n",
            "9\n",
            "10\n"
          ]
        }
      ]
    },
    {
      "cell_type": "markdown",
      "source": [
        "13.  Write a Python program to find the sum of all even numbers between 1 and 50."
      ],
      "metadata": {
        "id": "0iFb6eMDpLGa"
      }
    },
    {
      "cell_type": "code",
      "source": [
        "even_sum = 0\n",
        "for k in range(1,51):\n",
        "  if k % 2 == 0:\n",
        "    even_sum += k\n",
        "\n",
        "\n",
        "print(f\"The sum of even numbers from 1 to 50 is: {even_sum}\")"
      ],
      "metadata": {
        "id": "c0LJxa1apPVN",
        "colab": {
          "base_uri": "https://localhost:8080/"
        },
        "outputId": "f2ba7d40-2c1c-414b-ac63-1aa8c9c88b8d"
      },
      "execution_count": 30,
      "outputs": [
        {
          "output_type": "stream",
          "name": "stdout",
          "text": [
            "The sum of even numbers from 1 to 50 is: 650\n"
          ]
        }
      ]
    },
    {
      "cell_type": "markdown",
      "source": [
        "14. Write a program to reverse a string using a while loop."
      ],
      "metadata": {
        "id": "AXK_S5byq9A0"
      }
    },
    {
      "cell_type": "code",
      "source": [
        "text = input(\"Enter a string: \")\n",
        "reversed_text = \"\"\n",
        "index = len(text) - 1\n",
        "while index >= 0:\n",
        "    reversed_text += text[index]\n",
        "    index -= 1\n",
        "print(\"Reversed string:\", reversed_text)"
      ],
      "metadata": {
        "colab": {
          "base_uri": "https://localhost:8080/"
        },
        "id": "RsdswDt2rCAu",
        "outputId": "13ef50ab-c15c-42de-ef65-ed9f9cc44c02"
      },
      "execution_count": 31,
      "outputs": [
        {
          "output_type": "stream",
          "name": "stdout",
          "text": [
            "Enter a string: harry\n",
            "Reversed string: yrrah\n"
          ]
        }
      ]
    },
    {
      "cell_type": "markdown",
      "source": [
        "15.  Write a Python program to calculate the factorial of a number provided by the user using a while loop."
      ],
      "metadata": {
        "id": "A6ou8TCIsCXU"
      }
    },
    {
      "cell_type": "code",
      "source": [
        "num = int(input(\"Enter a number: \"))\n",
        "factorial = 1\n",
        "i = 1\n",
        "while i <= num:\n",
        "    factorial *= i\n",
        "    i += 1\n",
        "print(f\"The factorial of {num} is: {factorial}\")"
      ],
      "metadata": {
        "colab": {
          "base_uri": "https://localhost:8080/"
        },
        "id": "P-HQPVGfsG-U",
        "outputId": "429ba4a8-2087-4018-8046-92e9651b571c"
      },
      "execution_count": 34,
      "outputs": [
        {
          "output_type": "stream",
          "name": "stdout",
          "text": [
            "Enter a number: 8\n",
            "The factorial of 8 is: 40320\n"
          ]
        }
      ]
    }
  ]
}